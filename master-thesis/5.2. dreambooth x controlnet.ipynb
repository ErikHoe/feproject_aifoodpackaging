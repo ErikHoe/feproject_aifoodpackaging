{
 "cells": [
  {
   "cell_type": "markdown",
   "id": "c7bcef25-7f64-4a76-be8d-05435792f2ce",
   "metadata": {},
   "source": [
    "# 5.2. ControlNet\n",
    "## Dreambooth + ControlNet\n",
    "\n",
    "Controlling image diffusion models by conditioning the model with an additional input image"
   ]
  },
  {
   "cell_type": "code",
   "execution_count": null,
   "id": "bcc80976-5abf-40b4-80c6-696a246b73d5",
   "metadata": {},
   "outputs": [],
   "source": [
    "%env HF_HOME=/cluster/user/ehoemmen/.cache\n",
    "%env HF_DATASETS_CACHE=/cluster/user/ehoemmen/.cache"
   ]
  },
  {
   "cell_type": "code",
   "execution_count": null,
   "id": "649ae5ed-78ea-4355-8880-61f33aef64de",
   "metadata": {},
   "outputs": [],
   "source": [
    "!pip install diffusers --upgrade -q\n",
    "!pip install opencv-python transformers mediapipe matplotlib accelerate -q"
   ]
  },
  {
   "cell_type": "code",
   "execution_count": null,
   "id": "bfe178ae-93ca-4903-9140-ae6b2a59d4f6",
   "metadata": {},
   "outputs": [],
   "source": [
    "from diffusers import StableDiffusionXLControlNetPipeline, ControlNetModel, AutoencoderKL, UniPCMultistepScheduler\n",
    "from diffusers.utils import load_image\n",
    "import numpy as np\n",
    "import torch\n",
    "\n",
    "import cv2\n",
    "from PIL import Image"
   ]
  },
  {
   "cell_type": "code",
   "execution_count": null,
   "id": "85f9e0b5-e9e1-439e-ba98-2e40b83c20b0",
   "metadata": {},
   "outputs": [],
   "source": [
    "# create grid\n",
    "from PIL import Image\n",
    "\n",
    "#Image Grid\n",
    "def image_grid(imgs, rows, cols):\n",
    "    assert len(imgs) == rows*cols\n",
    "\n",
    "    w, h = imgs[0].size\n",
    "    grid = Image.new('RGB', size=(cols*w, rows*h))\n",
    "    grid_w, grid_h = grid.size\n",
    "    \n",
    "    for i, img in enumerate(imgs):\n",
    "        grid.paste(img, box=(i%cols*w, i//cols*h))\n",
    "    return grid"
   ]
  },
  {
   "cell_type": "code",
   "execution_count": null,
   "id": "29d948e5-7d78-4e22-a730-4382a35a03fd",
   "metadata": {},
   "outputs": [],
   "source": []
  },
  {
   "cell_type": "code",
   "execution_count": null,
   "id": "12694cd8-3421-4dc7-b2f3-37a573f81dcf",
   "metadata": {},
   "outputs": [],
   "source": [
    "# initialize the models and pipeline\n",
    "controlnet_conditioning_scale = 0.5  # recommended for good generalization\n",
    "controlnet = ControlNetModel.from_pretrained(\n",
    "    \"diffusers/controlnet-canny-sdxl-1.0\", torch_dtype=torch.float16, cache_dir=\"/cluster/user/ehoemmen/.cache\",\n",
    ")\n",
    "vae = AutoencoderKL.from_pretrained(\"madebyollin/sdxl-vae-fp16-fix\", torch_dtype=torch.float16, cache_dir=\"/cluster/user/ehoemmen/.cache\",\n",
    ")\n",
    "pipe = StableDiffusionXLControlNetPipeline.from_pretrained(\n",
    "    \"stabilityai/stable-diffusion-xl-base-1.0\",  controlnet=controlnet, vae=vae, torch_dtype=torch.float16, cache_dir=\"/cluster/user/ehoemmen/.cache\",\n",
    ")\n",
    "\n",
    "#pipe.load_lora_weights(\"erikhsos/cbbier_02-3-images_LoRA_lr1-4_500\")\n",
    "# pipe.load_lora_weights(\"erikhsos/cbbier_06-15-images_LoRA_lr1-4_2000\")\n",
    "pipe.load_lora_weights(\"erikhsos/nesquik_15-images_LoRA_lr1-4_2000\")\n",
    "\n",
    "\n",
    "pipe.enable_model_cpu_offload()\n",
    "#pipe.enable_sequential_cpu_offload()"
   ]
  },
  {
   "cell_type": "code",
   "execution_count": null,
   "id": "3e12e144-c27b-4b9e-b0c9-40edc9187d34",
   "metadata": {},
   "outputs": [],
   "source": [
    "#unload lora weights\n",
    "\n",
    "pipe.unload_lora_weights()"
   ]
  },
  {
   "cell_type": "code",
   "execution_count": null,
   "id": "8c621d2e-3422-4012-aaa8-a933c02e9d1c",
   "metadata": {},
   "outputs": [],
   "source": [
    "#load Original Image\n",
    "\n",
    "image = load_image(\n",
    " '/cluster/user/ehoemmen/development/tests_sonstiges/05_Masterarbeit/03_inpainting/campusbier_input.png'   #enter path\n",
    ")\n",
    "\n",
    "image"
   ]
  },
  {
   "cell_type": "code",
   "execution_count": null,
   "id": "a522d680-a214-405c-aae3-b01ab0e9d30a",
   "metadata": {},
   "outputs": [],
   "source": [
    "num_images = 4\n",
    "\n",
    "# Liste der gewünschten Farben\n",
    "colors = [\"light green\", \"light blue\", \"olive\", \"grey\"]\n",
    "\n",
    "# Erstelle einen individuellen Prompt für jede Farbe\n",
    "prompts = [f\"a [CB] bottle photo with a {color} label with the text CAMPUSBIER\" for color in colors]\n",
    "neg_prompt=\"green label, brown bottle\"\n",
    "\n",
    "# Lade das Originalbild\n",
    "original_image = load_image(\n",
    "   '/cluster/user/ehoemmen/development/tests_sonstiges/05_Masterarbeit/03_inpainting/campusbier_input.png'\n",
    ")\n",
    "\n",
    "# Erzeuge ein Canny-Edge-Bild\n",
    "image = np.array(original_image)\n",
    "image = cv2.Canny(image, 100, 200)\n",
    "image = image[:, :, None]\n",
    "image = np.concatenate([image, image, image], axis=2)\n",
    "canny_image = Image.fromarray(image)\n",
    "\n",
    "generator = torch.manual_seed(493)\n",
    "\n",
    "# Generiere Bilder basierend auf den individuellen Prompts\n",
    "generated_images = pipe(\n",
    "    prompts,\n",
    "    negative_prompt=neg_prompt,\n",
    "    num_inference_steps=25,\n",
    "    controlnet_conditioning_scale=controlnet_conditioning_scale, \n",
    "    image=canny_image,\n",
    "    generator=generator\n",
    ").images\n",
    "\n",
    "# Erzeuge ein Raster von den generierten Bildern\n",
    "grid = image_grid(generated_images, rows=1, cols=num_images)\n",
    "\n",
    "grid"
   ]
  },
  {
   "cell_type": "code",
   "execution_count": null,
   "id": "dfd03067-9b2c-4980-87d4-5d887b6cdae5",
   "metadata": {},
   "outputs": [],
   "source": []
  },
  {
   "cell_type": "code",
   "execution_count": null,
   "id": "75e049b8-3b24-4276-b77f-7536380b47e9",
   "metadata": {},
   "outputs": [],
   "source": []
  },
  {
   "cell_type": "code",
   "execution_count": null,
   "id": "5051838b-bb94-403c-ab99-54788043b4a4",
   "metadata": {},
   "outputs": [],
   "source": []
  },
  {
   "cell_type": "code",
   "execution_count": null,
   "id": "f986cdd8-02ff-43e6-9082-8d51aee6a35b",
   "metadata": {},
   "outputs": [],
   "source": []
  },
  {
   "cell_type": "code",
   "execution_count": null,
   "id": "c5f5e63c-8275-4492-80d1-059a0797352c",
   "metadata": {},
   "outputs": [],
   "source": []
  },
  {
   "cell_type": "code",
   "execution_count": null,
   "id": "dd870556-84c8-45d0-b016-93b551155a5b",
   "metadata": {},
   "outputs": [],
   "source": []
  },
  {
   "cell_type": "code",
   "execution_count": null,
   "id": "36bca191-6b1a-4942-9043-8b3bed01fdf7",
   "metadata": {},
   "outputs": [],
   "source": []
  }
 ],
 "metadata": {
  "kernelspec": {
   "display_name": "Python 3 (ipykernel)",
   "language": "python",
   "name": "python3"
  },
  "language_info": {
   "codemirror_mode": {
    "name": "ipython",
    "version": 3
   },
   "file_extension": ".py",
   "mimetype": "text/x-python",
   "name": "python",
   "nbconvert_exporter": "python",
   "pygments_lexer": "ipython3",
   "version": "3.11.9"
  }
 },
 "nbformat": 4,
 "nbformat_minor": 5
}
