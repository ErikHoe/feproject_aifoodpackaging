{
 "cells": [
  {
   "cell_type": "markdown",
   "id": "41d3ae49-758d-47f8-85c4-2d533208be71",
   "metadata": {},
   "source": [
    "# 03. Fast Image Generation\n",
    "\n",
    "## 03. Würstchen\n",
    "#### Content\n",
    "\n",
    "1. [Würstchen - General Image Generation](#wuerstchen)\n",
    "2. [Honey Cornflakes Test](#cornflakes)\n",
    "3. [Text Generation](#text)\n",
    "4. [Key-Findings](#keyfind)"
   ]
  },
  {
   "cell_type": "markdown",
   "id": "34873605-5f44-4101-aae1-a79e98438cd5",
   "metadata": {},
   "source": [
    "## Description + Links\n",
    "\n",
    "* works in a highly compressed latent space of images, which reduces computational costs for both training and inference\n",
    "* Würstchen consists of 3 stages: Stage C, B and A.\n",
    "    * Stage C will first generate latents in a very compressed latent space (`prior pipeline`)\n",
    "    *  afterwards the generated latents will be passed to Stage B, which decompresses the latents into a bigger latent space\n",
    "    *  these latents can then be decoded by Stage A into pixel-space (Stage B & A are both encapsulated in the `decoder_pipeline`\n",
    "* employs a two-stage compression (Stage A is a VQGAN and Stage B is a Diffusion Autoencoder)\n",
    "\n",
    "---\n",
    "**Documentation**\n",
    "\n",
    "https://huggingface.co/docs/diffusers/v0.27.2/en/api/pipelines/wuerstchen#w%C3%BCrstchen-overview\n",
    "\n",
    "**Paper**\n",
    "\n",
    "[Pernias, P., et al (2023): Würstchen: An Efficient Architecture for Large-Scale Text-to-Image Diffusion Models](https://arxiv.org/abs/2306.00637)"
   ]
  },
  {
   "cell_type": "markdown",
   "id": "5939460e-14a6-4b04-84cc-52896e461346",
   "metadata": {},
   "source": [
    "## Setup"
   ]
  },
  {
   "cell_type": "code",
   "execution_count": null,
   "id": "550c0bb2-8116-4954-8656-184fc39835e9",
   "metadata": {},
   "outputs": [],
   "source": [
    "%env HF_HOME=/cluster/user/ehoemmen/.cache\n",
    "%env HF_DATASETS_CACHE=/cluster/user/ehoemmen/.cache\n",
    "%env TRANSFORMERS_CACHE=/cluster/user/ehoemmen/.cache"
   ]
  },
  {
   "cell_type": "code",
   "execution_count": null,
   "id": "da297580-7b93-440f-99d5-79ba3389e4e9",
   "metadata": {},
   "outputs": [],
   "source": [
    "import torch\n",
    "from diffusers import AutoPipelineForText2Image\n",
    "from diffusers.pipelines.wuerstchen import DEFAULT_STAGE_C_TIMESTEPS\n",
    "from PIL import Image\n",
    "from IPython.display import display\n",
    "\n",
    "pipe = AutoPipelineForText2Image.from_pretrained(\n",
    "    \"warp-ai/wuerstchen\",\n",
    "    cache_dir=\"/cluster/user/ehoemmen/.cache\",\n",
    "    torch_dtype=torch.float16).to(\"cuda\")\n",
    "\n",
    "#pipe.enable_model_cpu_offload()\n",
    "#pipe.enable_sequential_cpu_offload()"
   ]
  },
  {
   "cell_type": "markdown",
   "id": "0b05a0bb-63c0-4f81-a2b0-64284f6f4237",
   "metadata": {},
   "source": [
    "<a id=\"wuerstchen\"></a>\n",
    "## 01. Würstchen - General Image Generation"
   ]
  },
  {
   "cell_type": "code",
   "execution_count": null,
   "id": "38dfa1e5-6a4a-41a1-9710-170d0cf8d7f2",
   "metadata": {},
   "outputs": [],
   "source": [
    "prompt = \"Red Cat playing with a ball\"\n",
    "\n",
    "#pipe.enable_model_cpu_offload()\n",
    "\n",
    "images = pipe(\n",
    "    prompt, \n",
    "    width=1024,\n",
    "    height=1536,\n",
    "    prior_timesteps=DEFAULT_STAGE_C_TIMESTEPS,\n",
    "    prior_guidance_scale=4.0,\n",
    "    num_images_per_prompt=3,\n",
    ").images\n",
    "\n",
    "# Stitch the images together side-by-side\n",
    "total_width = sum(img.width for img in images)\n",
    "max_height = max(img.height for img in images)\n",
    "stitched_image = Image.new('RGB', (total_width, max_height))\n",
    "\n",
    "x_offset = 0\n",
    "for img in images:\n",
    "    stitched_image.paste(img, (x_offset, 0))\n",
    "    x_offset += img.width\n",
    "\n",
    "# Display the stitched image\n",
    "display(stitched_image)"
   ]
  },
  {
   "cell_type": "markdown",
   "id": "c017bc70-65cc-4453-a8e6-182dfd10518e",
   "metadata": {},
   "source": [
    "#### Promptverständnis - Zuordnung von Zwei Farben "
   ]
  },
  {
   "cell_type": "code",
   "execution_count": null,
   "id": "8a4e9008-e281-498c-b778-fae6c12d0481",
   "metadata": {},
   "outputs": [],
   "source": [
    "prompt = \"Red Cat playing with a green ball\"\n",
    "\n",
    "#pipe.enable_model_cpu_offload()\n",
    "\n",
    "images = pipe(\n",
    "    prompt, \n",
    "    width=1024,\n",
    "    height=1536,\n",
    "    prior_timesteps=DEFAULT_STAGE_C_TIMESTEPS,\n",
    "    prior_guidance_scale=4.0,\n",
    "    num_images_per_prompt=3,\n",
    ").images\n",
    "\n",
    "# Stitch the images together side-by-side\n",
    "total_width = sum(img.width for img in images)\n",
    "max_height = max(img.height for img in images)\n",
    "stitched_image = Image.new('RGB', (total_width, max_height))\n",
    "\n",
    "x_offset = 0\n",
    "for img in images:\n",
    "    stitched_image.paste(img, (x_offset, 0))\n",
    "    x_offset += img.width\n",
    "\n",
    "# Display stitched image\n",
    "display(stitched_image)"
   ]
  },
  {
   "cell_type": "markdown",
   "id": "2f46bce5-b7e8-46df-95f4-033f38f03820",
   "metadata": {},
   "source": [
    "<a id=\"cornflakes\"></a>\n",
    "## 02. Honey Cornflakes - Test"
   ]
  },
  {
   "cell_type": "code",
   "execution_count": null,
   "id": "7e84d605-7c63-469f-9c36-20a38c50092d",
   "metadata": {},
   "outputs": [],
   "source": [
    "prompt = \"Honey Flavoured Cornflakes, Yellow Packaging design, cute bees, food photography, mockup\"\n",
    "#negative_prompt = \"realistic photo\"\n",
    "\n",
    "n_images = 3\n",
    "\n",
    "#pipe.enable_model_cpu_offload()\n",
    "\n",
    "images = pipe(\n",
    "    prompt, \n",
    "    width=1024,\n",
    "    height=1536,\n",
    "    #negative_prompt = negative_prompt,\n",
    "    prior_timesteps=DEFAULT_STAGE_C_TIMESTEPS,\n",
    "    prior_guidance_scale=10.0, \n",
    "    num_images_per_prompt=n_images,\n",
    ").images\n",
    "\n",
    "# Stitch the images together\n",
    "total_width = sum(img.width for img in images)\n",
    "max_height = max(img.height for img in images)\n",
    "stitched_image = Image.new('RGB', (total_width, max_height))\n",
    "\n",
    "x_offset = 0\n",
    "for img in images:\n",
    "    stitched_image.paste(img, (x_offset, 0))\n",
    "    x_offset += img.width\n",
    "\n",
    "# Display stitched images\n",
    "display(stitched_image)"
   ]
  },
  {
   "cell_type": "markdown",
   "id": "42d4bb0e-1414-45cb-8ca8-e5f34d40c135",
   "metadata": {},
   "source": [
    "<a id=\"text\"></a>\n",
    "## 03. Text Generation"
   ]
  },
  {
   "cell_type": "code",
   "execution_count": null,
   "id": "e78e4e7a-6815-440a-aca3-1b95841e950d",
   "metadata": {},
   "outputs": [],
   "source": [
    "prompt = \"street sign that reads 'Welcome to New York' \"\n",
    "negative_prompt = \"realistic photo\"\n",
    "\n",
    "n_images = 3\n",
    "\n",
    "#pipe.enable_model_cpu_offload()\n",
    "\n",
    "images = pipe(\n",
    "    prompt, \n",
    "    width=1024,\n",
    "    height=1536,\n",
    "    negative_prompt = negative_prompt,\n",
    "    prior_timesteps=DEFAULT_STAGE_C_TIMESTEPS,\n",
    "    prior_guidance_scale=10.0, \n",
    "    num_images_per_prompt=n_images,\n",
    ").images\n",
    "\n",
    "# Stitch the images together\n",
    "total_width = sum(img.width for img in images)\n",
    "max_height = max(img.height for img in images)\n",
    "stitched_image = Image.new('RGB', (total_width, max_height))\n",
    "\n",
    "x_offset = 0\n",
    "for img in images:\n",
    "    stitched_image.paste(img, (x_offset, 0))\n",
    "    x_offset += img.width\n",
    "\n",
    "# Display stitched images\n",
    "display(stitched_image)"
   ]
  },
  {
   "cell_type": "markdown",
   "id": "d3201aac-f239-411e-9ec6-d375e9923089",
   "metadata": {},
   "source": [
    "<a id=\"keyfind\"></a>\n",
    "\n",
    "## 4. Key Findings\n",
    "\n",
    "Results of würstchen are very good and aesthetic. A good model for generating ideas, e.g. for a workshop in the practice. Cornflakes packaging is of a much higher quality, especially compared to SDXL-Turbo.\n",
    "\n",
    "Overall, however, I have tested very little with würstchen. In addition, there is already the follow-up version with [<u>**Stable Cascade**</u> (Würstchen V3)](../3.0_fast_image_generation/04_stable_cascade.ipynb)\n"
   ]
  }
 ],
 "metadata": {
  "kernelspec": {
   "display_name": "Python 3 (ipykernel)",
   "language": "python",
   "name": "python3"
  },
  "language_info": {
   "codemirror_mode": {
    "name": "ipython",
    "version": 3
   },
   "file_extension": ".py",
   "mimetype": "text/x-python",
   "name": "python",
   "nbconvert_exporter": "python",
   "pygments_lexer": "ipython3",
   "version": "3.11.5"
  }
 },
 "nbformat": 4,
 "nbformat_minor": 5
}
