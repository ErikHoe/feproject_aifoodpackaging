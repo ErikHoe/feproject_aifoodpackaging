{
 "cells": [
  {
   "cell_type": "markdown",
   "id": "04671732-31d8-47d6-a02c-3c69c53ad501",
   "metadata": {},
   "source": [
    "# 04. Advanced Image Generation\n",
    "\n",
    "## 02. LoRa\n",
    "\n",
    "Here I tried some pretrained LoRa-Weights from Huggingface (Link below). The Dreambooth + LoRa Training for Campusbier can be found here [<u>Campusbier Fine-Tuning</u>](../4.0_advanced_image_generation/03_sdxl_dreambooth_lora_campusbier.ipynb). \n",
    "\n",
    "#### Content\n",
    "\n",
    "1. [SDXL LoRa - Cereals](#cereals)\n",
    "2. [SDXL LoRA - IKEA Instructions](#ikea)\n",
    "3. [Key-Findings](#keyfind1)"
   ]
  },
  {
   "cell_type": "markdown",
   "id": "57983537-8588-48ce-b5e1-de67100d73af",
   "metadata": {},
   "source": [
    "## Description + Links\n",
    "\n",
    "* **Low-Rank Adaption** (PEFT Method = Parameter-Efficient Fine-Tuning)\n",
    "* lightweight training technique that significantly reduces the number of trainable parameters\n",
    "* works by inserting a smaller number of new weights into the model and only these are trained\n",
    "* good for learning general design concepts \n",
    "* more in the [<u>Definitions Notebook</u>](../1.0_general/02_definitions.ipynb) under 07. LoRa\n",
    "\n",
    "---\n",
    "\n",
    "**Documentation**\n",
    "\n",
    "https://huggingface.co/docs/peft/conceptual_guides/lora\n",
    "\n",
    "https://huggingface.co/docs/diffusers/v0.23.0/en/tutorials/using_peft_for_inference\n",
    "\n",
    "**Paper**\n",
    "\n",
    "[Hu, E. J., et al. (2021): LoRA: Low-Rank Adaptation of Large Language Models](https://arxiv.org/abs/2106.09685)\n",
    "\n",
    "**Beispiel: LoRa Cereals** \n",
    "\n",
    "https://huggingface.co/ostris/super-cereal-sdxl-lora\n",
    "\n",
    "**Beispiel: LoRa IKEA-Instructions** \n",
    "\n",
    "https://huggingface.co/ostris/ikea-instructions-lora-sdxl"
   ]
  },
  {
   "cell_type": "code",
   "execution_count": null,
   "id": "6bba17e8-60f4-4ba7-aa48-62b3b2e0d3cf",
   "metadata": {},
   "outputs": [],
   "source": [
    "%env HF_HOME=/cluster/user/ehoemmen/.cache\n",
    "%env HF_DATASETS_CACHE=/cluster/user/ehoemmen/.cache\n",
    "%env TRANSFORMERS_CACHE=/cluster/user/ehoemmen/.cache"
   ]
  },
  {
   "cell_type": "code",
   "execution_count": null,
   "id": "4c99ff02-2dcc-4b88-9ac1-c846fe5c2760",
   "metadata": {},
   "outputs": [],
   "source": [
    "pip install -U diffusers invisible_watermark transformers accelerate safetensors peft"
   ]
  },
  {
   "cell_type": "code",
   "execution_count": null,
   "id": "6f0420cf-740a-4a0b-a2d8-e9447e753b0b",
   "metadata": {},
   "outputs": [],
   "source": [
    "from diffusers import AutoPipelineForText2Image\n",
    "import torch\n",
    "\n",
    "#load normal SDXL pipline\n",
    "pipeline = AutoPipelineForText2Image.from_pretrained(\"stabilityai/stable-diffusion-xl-base-1.0\", torch_dtype=torch.float16, cache_dir=\"/cluster/user/ehoemmen/.cache\")\n",
    "\n",
    "# pipeline.enable_model_cpu_offload()\n",
    "# pipeline.enable_attention_slicing()\n",
    "pipeline.enable_sequential_cpu_offload()"
   ]
  },
  {
   "cell_type": "markdown",
   "id": "ed0b5276-72f8-4546-98f9-709fb10e85a2",
   "metadata": {},
   "source": [
    "<a id=\"cereals\"></a>\n",
    "\n",
    "## 01. SDXL LoRa Cereals\n",
    "\n",
    "https://huggingface.co/ostris/super-cereal-sdxl-lora\n",
    "\n",
    "Tested generating different cereal packages."
   ]
  },
  {
   "cell_type": "code",
   "execution_count": null,
   "id": "2b0bd1ad-c406-44f4-b17c-7e362626f105",
   "metadata": {},
   "outputs": [],
   "source": [
    "# Load LoRa Weights to pipeline\n",
    "pipeline.load_lora_weights(\"ostris/super-cereal-sdxl-lora\", weight_name=\"cereal_box_sdxl_v1.safetensors\")\n",
    "\n",
    "prompt = \"bears, pizza bites\"\n",
    "image = pipeline(prompt, height=1024, width=1024).images[0]\n",
    "image"
   ]
  },
  {
   "cell_type": "code",
   "execution_count": null,
   "id": "4146dc3e-098b-476d-b3f1-997d73e9f295",
   "metadata": {},
   "outputs": [],
   "source": [
    "#unload LoRa parameters\n",
    "\n",
    "#pipeline.unload_lora_weights()"
   ]
  },
  {
   "cell_type": "code",
   "execution_count": null,
   "id": "a4b6ab8f-fd1d-45cf-9467-f6219ef91bb3",
   "metadata": {},
   "outputs": [],
   "source": [
    "prompt = \"beer crunch, beer inside\"\n",
    "image = pipeline(prompt, height=512, width=512).images[0]\n",
    "image"
   ]
  },
  {
   "cell_type": "code",
   "execution_count": null,
   "id": "53807d37-1e66-4e13-97af-a98d9ae68125",
   "metadata": {},
   "outputs": [],
   "source": [
    "prompt = \"bees, Honey Bites\"\n",
    "image = pipeline(prompt,height=512, width=512).images[0]\n",
    "image"
   ]
  },
  {
   "cell_type": "code",
   "execution_count": null,
   "id": "2573a383-d0af-4796-b5cb-ae9354245756",
   "metadata": {},
   "outputs": [],
   "source": [
    "prompt = \"pokemon, little monsters, Gotta Catch'Em All\"\n",
    "image = pipeline(prompt,height=512, width=512).images[0]\n",
    "image"
   ]
  },
  {
   "cell_type": "markdown",
   "id": "c134fe38-fb9b-46b8-ac2e-3e8a9811fecc",
   "metadata": {},
   "source": [
    "<a id=\"ikea\"></a>\n",
    "\n",
    "## 02. SDXL LoRa Ikea Constructions\n",
    "\n",
    "https://huggingface.co/ostris/ikea-instructions-lora-sdxl"
   ]
  },
  {
   "cell_type": "code",
   "execution_count": null,
   "id": "556142a7-de5f-4305-8397-fd7c6f63d5b1",
   "metadata": {},
   "outputs": [],
   "source": [
    "# Load LoRa Weights to pipeline\n",
    "pipeline.load_lora_weights(\"ostris/ikea-instructions-lora-sdxl\", weight_name=\"ikea_instructions_xl_v1_5.safetensors\")\n",
    "\n",
    "\n",
    "prompt = \"making a hamburger\"\n",
    "image = pipeline(prompt, \n",
    "                 #height=1024, width=1024\n",
    "                ).images[0]\n",
    "image"
   ]
  },
  {
   "cell_type": "markdown",
   "id": "b25a0807-093b-4914-8bea-f82778c45813",
   "metadata": {},
   "source": [
    "<a id=\"keyfind1\"></a>\n",
    "\n",
    "## 3. Key Findings\n",
    "\n",
    "LoRa is an interesting way to learn a whole design concept, like the cereal boxes here or even the IKEA instructions. Although I haven't done my own LoRa training yet (only tried DreamBooth+LoRA), it seems promising for the **creation of packagings for a whole product category** like beer or cereal, where the **design concept is always in the same style**. \n",
    "\n",
    "Even if the text and some elements in the designs look really strange and not quite finished, the model captures the concept. Of course, this could also be due to the training of the models I tested and should be checked again with my own data. I did not tried out my own LoRa trianing as part of the project (only in combintation with dreambooth --> you can find it in the [<u>Dreambooth x LoRa Notebook</u>](../4.0_advanced_image_generation/03_sdxl_dreambooth_lora_campusbier.ipynb).\n",
    "\n",
    "LoRa could be a good method for **specific idea generation** for a **product category**.\n"
   ]
  }
 ],
 "metadata": {
  "kernelspec": {
   "display_name": "Python 3 (ipykernel)",
   "language": "python",
   "name": "python3"
  },
  "language_info": {
   "codemirror_mode": {
    "name": "ipython",
    "version": 3
   },
   "file_extension": ".py",
   "mimetype": "text/x-python",
   "name": "python",
   "nbconvert_exporter": "python",
   "pygments_lexer": "ipython3",
   "version": "3.11.5"
  }
 },
 "nbformat": 4,
 "nbformat_minor": 5
}
