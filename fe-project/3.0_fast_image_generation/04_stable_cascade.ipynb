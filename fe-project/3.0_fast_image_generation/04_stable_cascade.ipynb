{
 "cells": [
  {
   "cell_type": "markdown",
   "id": "0e42d0f4-722e-48ad-880a-7ae34672dbca",
   "metadata": {},
   "source": [
    "# 03. Fast Image Generation\n",
    "\n",
    "## 04. Stable Cascade (Würstchen V3)\n",
    "#### Content\n",
    "\n",
    "1. [Basic Stable Cascade Pipeline](#cascade)\n",
    "2. [Campusbier Test](#beer)\n",
    "3. [Key-Findings](#keyfindings1)"
   ]
  },
  {
   "cell_type": "markdown",
   "id": "9ee809f5-3d1a-4138-a84a-9d0b4ece3530",
   "metadata": {},
   "source": [
    "## Description + Links\n",
    "\n",
    "* is working in a **much smaller latent space** (compared with Stable Diffusion)\n",
    "    * SD compresses by a factor of 8 (1024x1024 to 128x128), Stable Cascade compresses by a factor of 42 (1024x1024 to 24x24) \n",
    "* consists of three models: Stage A, Stage B and Stage C, representing a cascade to generate images\n",
    "* Stage A & B are used to compress images, similar to what the job of the VAE is in Stable Diffusion\n",
    "* The Stage C model operates on the small 24 x 24 latents and denoises the latents conditioned on text prompts\n",
    "  \n",
    "---\n",
    "\n",
    "**Blog**\n",
    "\n",
    "https://stability.ai/news/introducing-stable-cascade\n",
    "\n",
    "**Documentation**\n",
    "\n",
    "https://huggingface.co/docs/diffusers/main/en/api/pipelines/stable_cascade\n",
    "\n",
    "https://huggingface.co/stabilityai/stable-cascade\n",
    "\n",
    "https://github.com/Stability-AI/StableCascade/tree/master/inference\n",
    "\n",
    "**Paper**\n",
    "\n",
    "https://openreview.net/forum?id=gU58d5QeGv\n",
    "\n",
    "**Diffusers Repository - Würstchen V3 Branch**\n",
    "\n",
    "https://github.com/kashif/diffusers/tree/wuerstchen-v3/tests/pipelines/stable_cascade\n",
    "\n",
    "**Colab Notebook** (by mkshing)\n",
    "\n",
    "https://colab.research.google.com/github/mkshing/notebooks/blob/main/stable_cascade.ipynb#scrollTo=nd1QOOSw1OjD"
   ]
  },
  {
   "cell_type": "markdown",
   "id": "e3a9b77f-aa92-4e9e-9db3-2109fdb018d5",
   "metadata": {},
   "source": [
    "## Setup"
   ]
  },
  {
   "cell_type": "code",
   "execution_count": null,
   "id": "7c065da2-7ef2-4117-9928-fe5f4cd643f9",
   "metadata": {},
   "outputs": [],
   "source": [
    "%env HF_HOME=/cluster/user/ehoemmen/.cache\n",
    "%env HF_DATASETS_CACHE=/cluster/user/ehoemmen/.cache\n",
    "%env TRANSFORMERS_CACHE=/cluster/user/ehoemmen/.cache"
   ]
  },
  {
   "cell_type": "code",
   "execution_count": null,
   "id": "212d9a7a-3816-442b-a8bd-896661f4d173",
   "metadata": {},
   "outputs": [],
   "source": [
    "# übers terminal\n",
    "\n",
    "# currently broken\n",
    "# pip install git+https://github.com/kashif/diffusers.git@wuerstchen-v3\n",
    "\n",
    "# solution (https://github.com/Stability-AI/StableCascade/issues/58)\n",
    "# pip install git+https://github.com/kashif/diffusers.git@a3dc21385b7386beb3dab3a9845962ede6765887 --force"
   ]
  },
  {
   "cell_type": "code",
   "execution_count": null,
   "id": "11f8a98f-a457-4eb8-88df-3f9ee5d84a10",
   "metadata": {},
   "outputs": [],
   "source": [
    "import torch\n",
    "from diffusers import StableCascadeDecoderPipeline, StableCascadePriorPipeline\n",
    "\n",
    "from PIL import Image\n",
    "from IPython.display import display"
   ]
  },
  {
   "cell_type": "markdown",
   "id": "08b75323-81e6-49f0-bcab-e66c37b18660",
   "metadata": {},
   "source": [
    "<a id=\"cascade\"></a>\n",
    "\n",
    "## 01. Basic SD-Cascade Pipeline\n"
   ]
  },
  {
   "cell_type": "code",
   "execution_count": null,
   "id": "ebef45f2-7102-4e4d-8767-05fe2d7ebb1e",
   "metadata": {},
   "outputs": [],
   "source": [
    "prior = StableCascadePriorPipeline.from_pretrained(\"stabilityai/stable-cascade-prior\",\n",
    "                                                   torch_dtype=torch.bfloat16,\n",
    "                                                   cache_dir=\"/cluster/user/ehoemmen/.cache\",        #my cache path\n",
    "                                                   ignore_mismatched_sizes=True\n",
    "                                                  )\n",
    "prior.enable_model_cpu_offload()\n",
    "\n",
    "decoder = StableCascadeDecoderPipeline.from_pretrained(\"stabilityai/stable-cascade\",\n",
    "                                                       torch_dtype=torch.float16,\n",
    "                                                       cache_dir=\"/cluster/user/ehoemmen/.cache\",     #my cache path\n",
    "                                                       low_cpu_mem_usage=False,\n",
    "                                                       ignore_mismatched_sizes=True\n",
    "                                                      )\n",
    "decoder.enable_model_cpu_offload()"
   ]
  },
  {
   "cell_type": "markdown",
   "id": "c339a025-0ab4-46d2-b917-2a81e2a2fa2c",
   "metadata": {},
   "source": [
    "<a id=\"beer\"></a>\n",
    "\n",
    "## 02. Campusbier Test"
   ]
  },
  {
   "cell_type": "code",
   "execution_count": null,
   "id": "5c809f4a-5da8-4103-bd7b-ddd90e0c6bd3",
   "metadata": {},
   "outputs": [],
   "source": [
    "num_images_per_prompt = 2\n",
    "\n",
    "prompt =\"brown beer bottle from the brand 'CAMPUSBIER', green label, realistic photo, professional food mockup, awesome studio lightning\"\n",
    "\n",
    "#prompt =\"kids strawberry cornflakes package with the text 'CORNBERRY' a cute elephant on the label, realistic photo, carton, organic package\"\n",
    "#prompt = \"pikachu standing near a clif in Norway holding a sign with the text 'I LOVE OSNA', closeup, cinematic\"\n",
    "negative_prompt = \"\"\n",
    "\n",
    "prior_output = prior(\n",
    "    prompt=prompt,\n",
    "    height=1024,\n",
    "    width=1024,\n",
    "    negative_prompt=negative_prompt,\n",
    "    guidance_scale=7.0,\n",
    "    num_images_per_prompt=num_images_per_prompt,\n",
    "    num_inference_steps=20\n",
    ")\n",
    "decoder_output = decoder(\n",
    "    image_embeddings=prior_output.image_embeddings.half(),\n",
    "    prompt=prompt,\n",
    "    negative_prompt=negative_prompt,\n",
    "    guidance_scale=0.0,\n",
    "    output_type=\"pil\",              #now output is a list with PIL images\n",
    "    num_inference_steps=10\n",
    ").images\n",
    "\n",
    "for image in decoder_output:\n",
    "    image.show()\n",
    "\n",
    "#save image to your path    \n",
    "#decoder_output[1].save(\"/cluster/user/ehoemmen/Pictures/stable_cascade/... .png\")"
   ]
  },
  {
   "cell_type": "markdown",
   "id": "904c6a83-1549-40b3-879b-abb668117091",
   "metadata": {},
   "source": [
    "<a id=\"keyfindings1\"></a>\n",
    "\n",
    "## 3. Key Findings\n",
    "\n",
    "General images look very appealing and aesthetic. Text is generated better than with SDXL. Some problems generating the correct packaging type for food packaging (folding box instead of plastic stand-up pouch). Often ran 'out of memory' as the model is very large.\n",
    "\n",
    "But I haven't tested much with Stable Cascade. \n",
    "\n",
    "There is also a pipeline for image-to-image, ControlNET or LoRa. I have not yet tested these either.\n"
   ]
  }
 ],
 "metadata": {
  "kernelspec": {
   "display_name": "Python 3 (ipykernel)",
   "language": "python",
   "name": "python3"
  },
  "language_info": {
   "codemirror_mode": {
    "name": "ipython",
    "version": 3
   },
   "file_extension": ".py",
   "mimetype": "text/x-python",
   "name": "python",
   "nbconvert_exporter": "python",
   "pygments_lexer": "ipython3",
   "version": "3.11.5"
  }
 },
 "nbformat": 4,
 "nbformat_minor": 5
}
