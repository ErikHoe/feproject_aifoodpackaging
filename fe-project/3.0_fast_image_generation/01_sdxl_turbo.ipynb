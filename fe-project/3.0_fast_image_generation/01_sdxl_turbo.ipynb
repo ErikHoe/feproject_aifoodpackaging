{
 "cells": [
  {
   "cell_type": "markdown",
   "id": "c566a502-b6cb-4b12-8177-cb05eb44f8d9",
   "metadata": {},
   "source": [
    "# 03. Fast Image Generation\n",
    "\n",
    "## 01. SDXL Turbo\n",
    "#### Content\n",
    "\n",
    "1. [SDXL Turbo - General](#sdxlturbogeneral)\n",
    "2. [SDXL Turbo - Test Cornflakes ](#conflakes)\n",
    "3. [SDXL Turbo - Image-to-Image](#img2img)\n",
    "4. [Key-Findings](#keyfindings)"
   ]
  },
  {
   "cell_type": "markdown",
   "id": "0ab75a98-9cbd-4181-a88e-55507f87b2a2",
   "metadata": {},
   "source": [
    "## Description + Links\n",
    "\n",
    "\n",
    "* SDXL Turbo is an adversarial time-distilled model capable of running inference in as little as 1 step, increasing the number of steps up to 4 should be improve image quality\n",
    "* generates 512x512 images by default (*height* and *width* parameter could be adjusted to 1024x1024, but with quality degradations)\n",
    "* guidance scale should be set to 0.0, as the model was trained without\n",
    "---\n",
    "**Documentation**\n",
    "\n",
    "https://huggingface.co/docs/diffusers/v0.24.0/en/using-diffusers/sdxl_turbo\n",
    "\n",
    "**Paper**\n",
    "\n",
    "[Sauer, A., et al (2023): Adversarial Diffusion Distillation](https://arxiv.org/abs/2311.17042)\n"
   ]
  },
  {
   "cell_type": "markdown",
   "id": "38cea657-c059-4823-bf29-63f6f50dfbfa",
   "metadata": {},
   "source": [
    "## Setup"
   ]
  },
  {
   "cell_type": "code",
   "execution_count": null,
   "id": "74217b73-8428-447d-8d80-a90e9153eae4",
   "metadata": {},
   "outputs": [],
   "source": [
    "%env HF_HOME=/cluster/user/ehoemmen/.cache\n",
    "%env HF_DATASETS_CACHE=/cluster/user/ehoemmen/.cache\n",
    "%env TRANSFORMERS_CACHE=/cluster/user/ehoemmen/.cache"
   ]
  },
  {
   "cell_type": "code",
   "execution_count": null,
   "id": "70605976-aade-482c-b79f-bd991c72f991",
   "metadata": {},
   "outputs": [],
   "source": [
    "pip install -U diffusers invisible_watermark transformers accelerate safetensors datasets compel"
   ]
  },
  {
   "cell_type": "code",
   "execution_count": null,
   "id": "1343e043-2e8a-4fd4-8056-8e188d01382d",
   "metadata": {},
   "outputs": [],
   "source": [
    "from diffusers import AutoPipelineForText2Image, AutoPipelineForImage2Image\n",
    "import torch\n",
    "\n",
    "# compel for prompt weighting\n",
    "from compel import Compel, ReturnedEmbeddingsType\n",
    "\n",
    "# image grid\n",
    "from PIL import Image"
   ]
  },
  {
   "cell_type": "markdown",
   "id": "32a4bb93-176d-4553-9201-58715bb75f18",
   "metadata": {},
   "source": [
    "<a id=\"sdxlturbogeneral\"></a>\r",
    "## 01. SDXL Turbo - General\n"
   ]
  },
  {
   "cell_type": "code",
   "execution_count": null,
   "id": "fafb7b40-6a0c-4840-bc1c-278b6cae2f54",
   "metadata": {},
   "outputs": [],
   "source": [
    "pipeline = AutoPipelineForText2Image.from_pretrained(\"stabilityai/sdxl-turbo\", torch_dtype=torch.float16, variant=\"fp16\", cache_dir=\"/cluster/user/ehoemmen/.cache\")\n",
    "# pipeline = pipeline.to(\"cuda\")\n",
    "pipeline.enable_model_cpu_offload()"
   ]
  },
  {
   "cell_type": "code",
   "execution_count": null,
   "id": "beb73d4f-309c-4ea7-b40e-8887bccae942",
   "metadata": {},
   "outputs": [],
   "source": [
    "#Prompt Weighting\n",
    "compel = Compel(\n",
    "  tokenizer=[pipeline.tokenizer, pipeline.tokenizer_2] ,\n",
    "  text_encoder=[pipeline.text_encoder, pipeline.text_encoder_2],\n",
    "  returned_embeddings_type=ReturnedEmbeddingsType.PENULTIMATE_HIDDEN_STATES_NON_NORMALIZED,\n",
    "  requires_pooled=[False, True]\n",
    ")\n",
    "\n",
    "#Image Grid\n",
    "def image_grid(imgs, rows, cols):\n",
    "    assert len(imgs) == rows*cols\n",
    "\n",
    "    w, h = imgs[0].size\n",
    "    grid = Image.new('RGB', size=(cols*w, rows*h))\n",
    "    grid_w, grid_h = grid.size\n",
    "    \n",
    "    for i, img in enumerate(imgs):\n",
    "        grid.paste(img, box=(i%cols*w, i//cols*h))\n",
    "    return grid"
   ]
  },
  {
   "cell_type": "markdown",
   "id": "15c5c353-988f-4d4d-8b55-c64db914c945",
   "metadata": {},
   "source": [
    "#### A Single Inference Step"
   ]
  },
  {
   "cell_type": "code",
   "execution_count": null,
   "id": "1295b73b-4bbf-42c1-a96a-a7dabdb5e5e0",
   "metadata": {},
   "outputs": [],
   "source": [
    "prompt = \"A cinematic shot of a baby racoon wearing an intricate italian priest robe.\"\n",
    "\n",
    "image = pipeline(prompt=prompt, \n",
    "                 guidance_scale=0.0, \n",
    "                 num_inference_steps=1\n",
    "                ).images[0]\n",
    "image"
   ]
  },
  {
   "cell_type": "code",
   "execution_count": null,
   "id": "0af2277b-2c26-4a0e-88bf-254c5264549c",
   "metadata": {},
   "outputs": [],
   "source": [
    "n_images = 3\n",
    "prompt = [\"A cinematic shot of a baby racoon wearing an intricate italian priest robe\"] * n_images\n",
    "\n",
    "images = pipeline(prompt=prompt, \n",
    "                  guidance_scale=0.0, \n",
    "                  num_inference_steps=1\n",
    "                 ).images\n",
    "\n",
    "grid = image_grid(images, rows=1, cols=3)\n",
    "grid"
   ]
  },
  {
   "cell_type": "code",
   "execution_count": null,
   "id": "1335ce00-07b9-4cef-967c-8f16a9888be3",
   "metadata": {},
   "outputs": [],
   "source": [
    "n_images = 3\n",
    "prompt = [\"A cinematic shot of a baby racoon wearing an intricate italian priest robe\"] * n_images\n",
    "conditioning, pooled = compel(prompt)\n",
    "\n",
    "images = pipeline(prompt_embeds=conditioning, \n",
    "                  pooled_prompt_embeds=pooled, \n",
    "                  guidance_scale=0.0, \n",
    "                  num_inference_steps=1).images\n",
    "\n",
    "grid = image_grid(images, rows=1, cols=3)\n",
    "grid"
   ]
  },
  {
   "cell_type": "markdown",
   "id": "52e8cc24-2901-4290-84dc-ff030a57689c",
   "metadata": {},
   "source": [
    "#### Image Quality Comparison 1 - 6 Inference Steps"
   ]
  },
  {
   "cell_type": "code",
   "execution_count": null,
   "id": "39cf5631-1599-4348-aeb8-ebefa11ce1e8",
   "metadata": {},
   "outputs": [],
   "source": [
    "n_images = 6\n",
    "prompt = [\"A cinematic shot of a baby racoon wearing an intricate italian priest robe\"] * n_images\n",
    "conditioning, pooled = compel(prompt)\n",
    "\n",
    "# Seed setzen\n",
    "generator = torch.Generator(device=\"cuda\").manual_seed(2147483647) \n",
    "\n",
    "# Initialize images list\n",
    "images = []\n",
    "\n",
    "for i in range(n_images):\n",
    "    generator.manual_seed(2147483647)\n",
    "    image = pipeline(prompt_embeds=conditioning, \n",
    "                     pooled_prompt_embeds=pooled, \n",
    "                     generator=generator, \n",
    "                     guidance_scale=0.0,\n",
    "                     num_inference_steps=i+1,\n",
    "                    ).images[0]\n",
    "    images.append(image)\n",
    "\n",
    "grid = image_grid(images, rows=1, cols=n_images)\n",
    "grid"
   ]
  },
  {
   "cell_type": "markdown",
   "id": "f7811545-ced7-492e-847c-df3cfeb8c2f9",
   "metadata": {},
   "source": [
    "<a id=\"conflakes\"></a>\n",
    "## 02. SDXL Turbo - Test Cornflakes\n",
    "\n",
    "#### Quality Comparison 1 - 4 Inference Steps"
   ]
  },
  {
   "cell_type": "code",
   "execution_count": null,
   "id": "3a72aab5-2376-4afd-aa2d-4477a0e5255b",
   "metadata": {},
   "outputs": [],
   "source": [
    "n_images = 4\n",
    "prompt = [\"delicous cornflakes box with sweet honey flavour in an awesome packaging design that reads Kelloggs Honey Bites\"] * n_images\n",
    "conditioning, pooled = compel(prompt)\n",
    "\n",
    "# Seed setzen\n",
    "generator = torch.Generator(device=\"cuda\").manual_seed(2147483647) \n",
    "\n",
    "# Initialize images list\n",
    "images = []\n",
    "\n",
    "for i in range(n_images):\n",
    "    generator.manual_seed(2147483647)\n",
    "    image = pipeline(prompt_embeds=conditioning, \n",
    "                     pooled_prompt_embeds=pooled, \n",
    "                     generator=generator, \n",
    "                     guidance_scale=0.0,\n",
    "                     num_inference_steps=i+1,\n",
    "                    ).images[0]\n",
    "    images.append(image)\n",
    "\n",
    "grid = image_grid(images, rows=1, cols=n_images)\n",
    "grid"
   ]
  },
  {
   "cell_type": "code",
   "execution_count": null,
   "id": "1924e109-2837-43c7-af0d-e579fdb35eb9",
   "metadata": {},
   "outputs": [],
   "source": [
    "prompt = \"delicous honey cornflakes box in an awesome packaging design with a cute little bee drawing on it that reads Honey Cornflakes\"\n",
    "\n",
    "image = pipeline(prompt=prompt, \n",
    "                 guidance_scale=0.0, \n",
    "                 num_inference_steps=4\n",
    "                ).images[0]\n",
    "image"
   ]
  },
  {
   "cell_type": "markdown",
   "id": "6f4077d4-6c97-4670-8b90-7dc4b63de70c",
   "metadata": {},
   "source": [
    "<a id=\"img2img\"></a>\n",
    "# 3. SDXL Turbo - Image-to-Image\n",
    "\n",
    "For image-to-image generation, make sure that num_inference_steps * strength is larger or equal to 1. The image-to-image pipeline will run for int(num_inference_steps * strength) steps, e.g. 0.5 * 2.0 = 1 step"
   ]
  },
  {
   "cell_type": "code",
   "execution_count": null,
   "id": "113a5213-6e54-4922-a5a3-4b886a5ca148",
   "metadata": {},
   "outputs": [],
   "source": [
    "from diffusers import AutoPipelineForImage2Image\n",
    "from diffusers.utils import load_image, make_image_grid"
   ]
  },
  {
   "cell_type": "code",
   "execution_count": null,
   "id": "5510786d-a32b-4202-8a83-116c12ba8a9e",
   "metadata": {},
   "outputs": [],
   "source": [
    "# use from_pipe to avoid consuming additional memory when loading a checkpoint\n",
    "#pipeline = AutoPipelineForImage2Image.from_pretrained(\"stabilityai/sdxl-turbo\", cache_dir=\"/cluster/user/ehoemmen/.cache\")\n",
    "pipeline = AutoPipelineForImage2Image.from_pretrained(\"stabilityai/sdxl-turbo\", cache_dir=\"/cluster/user/ehoemmen/.cache\")\n",
    "\n",
    "#.to(\"cuda\")\n",
    "pipeline.enable_sequential_cpu_offload()"
   ]
  },
  {
   "cell_type": "code",
   "execution_count": null,
   "id": "83413110-20de-4a02-9e1e-e03e9a816923",
   "metadata": {},
   "outputs": [],
   "source": [
    "init_image = load_image(\"https://huggingface.co/datasets/huggingface/documentation-images/resolve/main/diffusers/cat.png\")\n",
    "init_image = init_image.resize((512, 512))\n",
    "\n",
    "prompt = \"cat wizard, gandalf, lord of the rings, detailed, fantasy, cute, adorable, Pixar, Disney, 8k\"\n",
    "\n",
    "image = pipeline(prompt=prompt,\n",
    "                 image=init_image, \n",
    "                 strength=0.5, \n",
    "                 guidance_scale=0.0, \n",
    "                 num_inference_steps=4\n",
    "                ).images[0]\n",
    "make_image_grid([init_image, image], rows=1, cols=2)"
   ]
  },
  {
   "cell_type": "code",
   "execution_count": null,
   "id": "26712a3d-4aff-4b68-bfb5-f645c954383a",
   "metadata": {},
   "outputs": [],
   "source": [
    "url = '../5.0_pictures/kelloggs_resized.jpg'\n",
    "init_image = load_image(url)\n",
    "\n",
    "prompt = \"Honey Flavoured Cornflakes, Yellow Packaging design, cute bees, food photography, mockup\"\n",
    "\n",
    "image = pipeline(prompt=prompt,\n",
    "                 image=init_image, \n",
    "                 strength=0.7, \n",
    "                 guidance_scale=0.0, \n",
    "                 num_inference_steps=4\n",
    "                ).images[0]\n",
    "\n",
    "make_image_grid([init_image, image], rows=1, cols=2)"
   ]
  },
  {
   "cell_type": "markdown",
   "id": "37428fb7-e0f4-46c9-b0d8-45a6ca8e172a",
   "metadata": {},
   "source": [
    "<a id=\"keyfindings\"></a>\n",
    "\n",
    "## Key Findings\n",
    "\n",
    "Normal text-to-image generation works very well. In practice (e.g. for an ideas workshop), it would be preferable to the normal SDXL pipeline, as it is very fast and the images have the same level of quality. But it is more suitable for generating and finding ideas. When it comes to **concrete ideas**, **SDXL-Turbo is not suitable**. In addition to the standard text-to-image pipeline, there is only the image-to-image pipeline, which means that no individual design elements can be changed."
   ]
  }
 ],
 "metadata": {
  "kernelspec": {
   "display_name": "Python 3 (ipykernel)",
   "language": "python",
   "name": "python3"
  },
  "language_info": {
   "codemirror_mode": {
    "name": "ipython",
    "version": 3
   },
   "file_extension": ".py",
   "mimetype": "text/x-python",
   "name": "python",
   "nbconvert_exporter": "python",
   "pygments_lexer": "ipython3",
   "version": "3.11.5"
  }
 },
 "nbformat": 4,
 "nbformat_minor": 5
}
