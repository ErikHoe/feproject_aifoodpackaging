{
 "cells": [
  {
   "cell_type": "markdown",
   "id": "93d12a36-479a-4a5d-b0af-bcf6874982cd",
   "metadata": {},
   "source": [
    "# 01. General\n",
    "\n",
    "## 01. Helpful Links to Explanations and Documentations\n",
    "#### Content\n",
    "\n",
    "1.  [Huggingface - Docs](#docs)\n",
    "2.  [Latent Diffusion (Stable Diffusion) Explained](#diffusion)\n",
    "\n",
    "\n",
    "If you want to learn Diffusion Models from scratch check out the [<u>**Huggingface Diffusion Models Class (Unit 1 -3)**</u>](https://github.com/huggingface/diffusion-models-class) on GitHub. Unit 3 is a Stable Diffusion Deep Dive."
   ]
  },
  {
   "cell_type": "markdown",
   "id": "26c264af-c508-4933-80fd-07ac473ea949",
   "metadata": {},
   "source": [
    "<a id=\"docs\"></a>\n",
    "\n",
    "## 1. Huggingface - Docs\n",
    "https://huggingface.co/docs/diffusers/index"
   ]
  },
  {
   "cell_type": "markdown",
   "id": "d47a9400-ee31-4f87-8056-98d51fe05d0b",
   "metadata": {},
   "source": [
    "#### SD-XL\n",
    "https://huggingface.co/docs/diffusers/api/pipelines/stable_diffusion/stable_diffusion_xl"
   ]
  },
  {
   "cell_type": "markdown",
   "id": "4b4a3203-950d-420b-923d-b05212bfbeea",
   "metadata": {},
   "source": [
    "#### How the SD-Pipeline works\n",
    "https://huggingface.co/docs/diffusers/using-diffusers/write_own_pipeline"
   ]
  },
  {
   "cell_type": "markdown",
   "id": "22ac76f2-2cdf-42ce-9ff0-f3c524935351",
   "metadata": {},
   "source": [
    "<a id=\"diffusion\"></a>\n",
    "## 2. Latent Diffusion (Stable Diffusion) Explained\n"
   ]
  },
  {
   "cell_type": "markdown",
   "id": "d6e1feab-915d-4cb5-ae19-4da06f6fce2e",
   "metadata": {},
   "source": [
    "#### Article - How SD works\n",
    "https://huggingface.co/blog/stable_diffusion\n",
    "\n",
    "https://huggingface.co/blog/stable_diffusion#how-does-stable-diffusion-work"
   ]
  },
  {
   "cell_type": "markdown",
   "id": "53b6875e-e015-42e6-9aa4-ff4b2fff451c",
   "metadata": {},
   "source": [
    "#### How to use SD-XL\n",
    "https://wandb.ai/geekyrakshit/stable-diffusion-xl/reports/A-Guide-to-using-Stable-Diffusion-XL-with-Diffusers--Vmlldzo1MDMxMDU4"
   ]
  },
  {
   "cell_type": "markdown",
   "id": "4d900e59-764f-4ecd-8d3d-1f9973d09230",
   "metadata": {},
   "source": [
    "#### Diffusion Models Explained (Math) - D. Rampas (Würstchen Autor) \n",
    "https://www.youtube.com/watch?v=HoKDTa5jHvg"
   ]
  },
  {
   "cell_type": "markdown",
   "id": "f8f1ff73-6979-499c-8471-f1e0a9c4f99a",
   "metadata": {},
   "source": [
    "#### Würstchen Explained\n",
    "https://www.youtube.com/watch?v=ogJsCPqgFMk"
   ]
  },
  {
   "cell_type": "markdown",
   "id": "f9512227-e79f-401f-b11f-b461f3013813",
   "metadata": {},
   "source": [
    "#### Towards Data Science - In Depth Diffusion Model Explanation\n",
    "https://towardsdatascience.com/comparing-and-explaining-diffusion-models-in-huggingface-diffusers-a83d64348d90"
   ]
  },
  {
   "cell_type": "markdown",
   "id": "970b5e24-18c5-47eb-9654-22a7fb84b540",
   "metadata": {},
   "source": [
    "#### The Ai Summer - Diffusion Models Explanation\n",
    "https://theaisummer.com/diffusion-models/"
   ]
  },
  {
   "cell_type": "markdown",
   "id": "de22002a-71ec-4ded-9d63-8791a3434531",
   "metadata": {},
   "source": [
    "#### Mathworks - Diffusion Models\n",
    "https://www.mathworks.com/help/deeplearning/ug/generate-images-using-diffusion.html"
   ]
  }
 ],
 "metadata": {
  "kernelspec": {
   "display_name": "Python 3 (ipykernel)",
   "language": "python",
   "name": "python3"
  },
  "language_info": {
   "codemirror_mode": {
    "name": "ipython",
    "version": 3
   },
   "file_extension": ".py",
   "mimetype": "text/x-python",
   "name": "python",
   "nbconvert_exporter": "python",
   "pygments_lexer": "ipython3",
   "version": "3.11.9"
  }
 },
 "nbformat": 4,
 "nbformat_minor": 5
}
