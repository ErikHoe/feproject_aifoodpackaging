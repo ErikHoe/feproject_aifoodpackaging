{
 "cells": [
  {
   "cell_type": "markdown",
   "id": "b94cf707-05dc-44e9-a786-d6b7aa01fcc6",
   "metadata": {},
   "source": [
    "# Table of Content"
   ]
  },
  {
   "cell_type": "markdown",
   "id": "b00181b7-ff46-4947-bced-e86132e91ca3",
   "metadata": {},
   "source": [
    "## 1.0 General\n",
    "\n",
    "[01. Helpful Links to Explanations and Documentation](1.0_general/01_links.ipynb)\n",
    "\n",
    "[02. Latent Diffusion Architecture + Other Definitions ](1.0_general/02_definitions.ipynb)\n",
    "\n",
    "[03. SDXL Parameters](1.0_general/03_parameters.ipynb)\n"
   ]
  },
  {
   "cell_type": "markdown",
   "id": "d2d49c7a-2ad5-4ea8-a837-92459a37b947",
   "metadata": {},
   "source": [
    "## Stable Diffusion XL"
   ]
  },
  {
   "cell_type": "markdown",
   "id": "74438c14-9994-41b0-acc6-120e0a318f74",
   "metadata": {},
   "source": [
    "## 2.0 Basic Image Generation + Functions\n",
    "\n",
    "\n",
    "[01. Basic SDXL Pipeline (Base + Refiner Model, Architecture)](2.0_basic_image_generation_and_functions/01_basic_sdxl_pipeline.ipynb)\n",
    "\n",
    "[02. SDXL Features + Image Control (Prompt Weighting, Guidance Scale, Deterministic Generation, Diffusion Process)](2.0_basic_image_generation_and_functions/02_sdxl_features_image_control.ipynb)\n",
    "\n",
    "[03. Different Scheduler](2.0_basic_image_generation_and_functions/03_different_scheduler.ipynb)\n",
    "\n",
    "[04. Image-to-Image](2.0_basic_image_generation_and_functions/04_image_to_image.ipynb)\n",
    "\n",
    "[05. Inpainting](2.0_basic_image_generation_and_functions/05_inpainting.ipynb)\n",
    "\n"
   ]
  },
  {
   "cell_type": "markdown",
   "id": "b7761a9f-adef-45af-a2e8-689464620e58",
   "metadata": {},
   "source": [
    "## 3.0 Fast Image Generation\n",
    "\n",
    "\n",
    "[01. SDXL Turbo](3.0_fast_image_generation/01_sdxl_turbo.ipynb)\n",
    "\n",
    "[02. Latent Consistency Models (LCM)](3.0_fast_image_generation/02_latent_consistency_models.ipynb)\n",
    "\n",
    "[03. WürstchenV2](3.0_fast_image_generation/03_wuerstchen.ipynb)\n",
    "\n",
    "[04. Stable Cascade (WürstchenV3)](3.0_fast_image_generation/04_stable_cascade.ipynb)\n"
   ]
  },
  {
   "cell_type": "markdown",
   "id": "05fdc0d8-643c-48ef-9d49-8f7bc471b5b8",
   "metadata": {},
   "source": [
    "## 4.0 Advanced Image Generation\n",
    "\n",
    "\n",
    "[01. ControlNET](4.0_advanced_image_generation/01_controlnet.ipynb)\n",
    "\n",
    "[02. LoRa - Low Rank Adaption (Cereals, IKEA-Instructions)](4.0_advanced_image_generation/02_lora.ipynb)\n",
    "\n",
    "[03. Dreambooth + LoRa (Campusbier Fine Tuning- own training)](4.0_advanced_image_generation/03_sdxl_dreambooth_lora_campusbier.ipynb)\n"
   ]
  },
  {
   "cell_type": "code",
   "execution_count": null,
   "id": "be9fe9e2-64fd-46b0-9b62-c315113c1d06",
   "metadata": {},
   "outputs": [],
   "source": []
  }
 ],
 "metadata": {
  "kernelspec": {
   "display_name": "Python 3 (ipykernel)",
   "language": "python",
   "name": "python3"
  },
  "language_info": {
   "codemirror_mode": {
    "name": "ipython",
    "version": 3
   },
   "file_extension": ".py",
   "mimetype": "text/x-python",
   "name": "python",
   "nbconvert_exporter": "python",
   "pygments_lexer": "ipython3",
   "version": "3.11.9"
  }
 },
 "nbformat": 4,
 "nbformat_minor": 5
}
